{
 "cells": [
  {
   "cell_type": "markdown",
   "metadata": {},
   "source": [
    "# Artificial Intelligence\n",
    "# 464\n",
    "# Assignment #2\n",
    "\n",
    "## General Directions for this Assignment\n",
    "\n",
    "00. We're using a Jupyter Notebook environment (tutorial available here: https://jupyter-notebook-beginner-guide.readthedocs.io/en/latest/what_is_jupyter.html),\n",
    "01. Read the entire notebook before beginning your work, \n",
    "02. Output format should be exactly as requested, \n",
    "03. Each helper function should be preceeded by documentation (Markdown cell),\n",
    "05. No comments in the code; anything worth mentioning should be included in the documentation,\n",
    "06. Keep functions to 20 lines or less (including empty lines so do not add any),\n",
    "08. Use descriptive variable names,\n",
    "09. Functions should do only one thing,\n",
    "10. Check submission deadline on Gradescope, \n",
    "11. Rename the file to Last_First_assignment_2, \n",
    "12. Submit your notebook (as .ipynb, not PDF) using Gradescope, and\n",
    "13. Do not submit any other files.\n",
    "\n",
    "\n",
    "## Directions _not_ applicable for this Assignment:\n",
    "* Do not use classes,\n",
    "* Each helper function should be followed by three assert-style unit tests.\n",
    "\n",
    "\n",
    "## Before You Submit...\n",
    "\n",
    "1. Re-read the general instructions provided above, and\n",
    "2. Hit \"Kernel\"->\"Restart & Run All\"."
   ]
  },
  {
   "cell_type": "markdown",
   "metadata": {},
   "source": [
    "## The World\n",
    "\n",
    "A `List of Lists` is used to represent the world. Cells marked as '⬛' are obstacles in the world and are not traversable."
   ]
  },
  {
   "cell_type": "code",
   "execution_count": 2112,
   "metadata": {},
   "outputs": [],
   "source": [
    "world = [\n",
    "['⬜','⬜','⬜','⬜','⬜','⬜','⬜','⬜','⬜','⬜','⬜','⬜','⬜','⬜','⬜','⬜','⬜','⬜','⬜','⬜','⬜'],\n",
    "['⬜','⬜','⬜','⬜','⬜','⬜','⬜','⬜','⬜','⬜','⬜','⬜','⬜','⬜','⬜','⬜','⬜','⬜','⬜','⬜','⬜'],\n",
    "['⬜','⬜','⬜','⬜','⬜','⬜','⬜','⬜','⬜','⬜','⬜','⬜','⬜','⬜','⬜','⬜','⬜','⬜','⬜','⬜','⬜'],\n",
    "['⬜','⬜','⬜','⬜','⬜','⬜','⬜','⬜','⬜','⬜','⬜','⬜','⬜','⬜','⬜','⬜','⬜','⬜','⬜','⬜','⬜'],\n",
    "['⬜','⬜','⬜','⬜','⬜','⬜','⬜','⬜','⬜','⬜','⬜','⬜','⬜','⬜','⬜','⬜','⬜','⬜','⬜','⬜','⬜'],\n",
    "['⬜','⬜','⬜','⬜','⬜','⬜','⬜','⬜','⬜','⬜','⬜','⬜','⬜','⬜','⬜','⬜','⬜','⬜','⬜','⬜','⬜'],\n",
    "['⬜','⬜','⬜','⬜','⬜','⬜','⬜','⬜','⬜','⬜','⬜','⬜','⬜','⬜','⬜','⬜','⬜','⬜','⬜','⬜','⬜'],\n",
    "['⬜','⬜','⬜','⬜','⬜','⬜','⬜','⬜','⬜','⬜','⬜','⬜','⬜','⬜','⬜','⬜','⬜','⬜','⬜','⬜','⬜'],\n",
    "['⬜','⬜','⬜','⬜','⬜','⬜','⬜','⬜','⬜','⬜','⬜','⬜','⬜','⬜','⬜','⬜','⬜','⬜','⬜','⬜','⬜'],\n",
    "['⬜','⬜','⬜','⬜','⬜','⬜','⬜','⬜','⬜','⬛','⬛','⬛','⬜','⬜','⬜','⬜','⬜','⬜','⬜','⬜','⬜'],\n",
    "['⬜','⬜','⬜','⬜','⬜','⬜','⬜','⬜','⬜','⬛','⬛','⬛','⬜','⬜','⬜','⬜','⬜','⬜','⬜','⬜','⬜'],\n",
    "['⬜','⬜','⬜','⬜','⬜','⬜','⬜','⬜','⬜','⬛','⬛','⬛','⬜','⬜','⬜','⬜','⬜','⬜','⬜','⬜','⬜'],\n",
    "['⬜','⬜','⬜','⬜','⬜','⬜','⬜','⬜','⬜','⬜','⬜','⬜','⬜','⬜','⬜','⬜','⬜','⬜','⬜','⬜','⬜'],\n",
    "['⬜','⬜','⬜','⬜','⬜','⬜','⬜','⬜','⬜','⬜','⬜','⬜','⬜','⬜','⬜','⬜','⬜','⬜','⬜','⬜','⬜'],\n",
    "['⬜','⬜','⬜','⬜','⬜','⬜','⬜','⬜','⬜','⬜','⬜','⬜','⬜','⬜','⬜','⬜','⬜','⬜','⬜','⬜','⬜'],\n",
    "['⬜','⬜','⬜','⬜','⬜','⬜','⬜','⬜','⬜','⬜','⬜','⬜','⬜','⬜','⬜','⬜','⬜','⬜','⬜','⬜','⬜'],\n",
    "['⬜','⬜','⬜','⬜','⬜','⬜','⬜','⬜','⬜','⬜','⬜','⬜','⬜','⬜','⬜','⬜','⬜','⬜','⬜','⬜','⬜'],\n",
    "['⬜','⬜','⬜','⬜','⬜','⬜','⬜','⬜','⬜','⬜','⬜','⬜','⬜','⬜','⬜','⬜','⬜','⬜','⬜','⬜','⬜'],\n",
    "['⬜','⬜','⬜','⬜','⬜','⬜','⬜','⬜','⬜','⬜','⬜','⬜','⬜','⬜','⬜','⬜','⬜','⬜','⬜','⬜','⬜'],\n",
    "['⬜','⬜','⬜','⬜','⬜','⬜','⬜','⬜','⬜','⬜','⬜','⬜','⬜','⬜','⬜','⬜','⬜','⬜','⬜','⬜','⬜'],\n",
    "['⬜','⬜','⬜','⬜','⬜','⬜','⬜','⬜','⬜','⬜','⬜','⬜','⬜','⬜','⬜','⬜','⬜','⬜','⬜','⬜','⬜']]"
   ]
  },
  {
   "cell_type": "code",
   "execution_count": 2113,
   "metadata": {},
   "outputs": [
    {
     "name": "stdout",
     "output_type": "stream",
     "text": [
      "⬜⬜⬜⬜⬜⬜⬜⬜⬜⬜⬜⬜⬜⬜⬜⬜⬜⬜⬜⬜⬜\n",
      "⬜⬜⬜⬜⬜⬜⬜⬜⬜⬜⬜⬜⬜⬜⬜⬜⬜⬜⬜⬜⬜\n",
      "⬜⬜⬜⬜⬜⬜⬜⬜⬜⬜⬜⬜⬜⬜⬜⬜⬜⬜⬜⬜⬜\n",
      "⬜⬜⬜⬜⬜⬜⬜⬜⬜⬜⬜⬜⬜⬜⬜⬜⬜⬜⬜⬜⬜\n",
      "⬜⬜⬜⬜⬜⬜⬜⬜⬜⬜⬜⬜⬜⬜⬜⬜⬜⬜⬜⬜⬜\n",
      "⬜⬜⬜⬜⬜⬜⬜⬜⬜⬜⬜⬜⬜⬜⬜⬜⬜⬜⬜⬜⬜\n",
      "⬜⬜⬜⬜⬜⬜⬜⬜⬜⬜⬜⬜⬜⬜⬜⬜⬜⬜⬜⬜⬜\n",
      "⬜⬜⬜⬜⬜⬜⬜⬜⬜⬜⬜⬜⬜⬜⬜⬜⬜⬜⬜⬜⬜\n",
      "⬜⬜⬜⬜⬜⬜⬜⬜⬜⬜⬜⬜⬜⬜⬜⬜⬜⬜⬜⬜⬜\n",
      "⬜⬜⬜⬜⬜⬜⬜⬜⬜⬛⬛⬛⬜⬜⬜⬜⬜⬜⬜⬜⬜\n",
      "⬜⬜⬜⬜⬜⬜⬜⬜⬜⬛⬛⬛⬜⬜⬜⬜⬜⬜⬜⬜⬜\n",
      "⬜⬜⬜⬜⬜⬜⬜⬜⬜⬛⬛⬛⬜⬜⬜⬜⬜⬜⬜⬜⬜\n",
      "⬜⬜⬜⬜⬜⬜⬜⬜⬜⬜⬜⬜⬜⬜⬜⬜⬜⬜⬜⬜⬜\n",
      "⬜⬜⬜⬜⬜⬜⬜⬜⬜⬜⬜⬜⬜⬜⬜⬜⬜⬜⬜⬜⬜\n",
      "⬜⬜⬜⬜⬜⬜⬜⬜⬜⬜⬜⬜⬜⬜⬜⬜⬜⬜⬜⬜⬜\n",
      "⬜⬜⬜⬜⬜⬜⬜⬜⬜⬜⬜⬜⬜⬜⬜⬜⬜⬜⬜⬜⬜\n",
      "⬜⬜⬜⬜⬜⬜⬜⬜⬜⬜⬜⬜⬜⬜⬜⬜⬜⬜⬜⬜⬜\n",
      "⬜⬜⬜⬜⬜⬜⬜⬜⬜⬜⬜⬜⬜⬜⬜⬜⬜⬜⬜⬜⬜\n",
      "⬜⬜⬜⬜⬜⬜⬜⬜⬜⬜⬜⬜⬜⬜⬜⬜⬜⬜⬜⬜⬜\n",
      "⬜⬜⬜⬜⬜⬜⬜⬜⬜⬜⬜⬜⬜⬜⬜⬜⬜⬜⬜⬜⬜\n",
      "⬜⬜⬜⬜⬜⬜⬜⬜⬜⬜⬜⬜⬜⬜⬜⬜⬜⬜⬜⬜⬜\n"
     ]
    }
   ],
   "source": [
    "# A nicer view of the world, without commas and brackets\n",
    "for row in world:\n",
    "    print(\"\".join(row))"
   ]
  },
  {
   "cell_type": "markdown",
   "metadata": {},
   "source": [
    "## Robot\n",
    "\n",
    "Our robot '🤖' starts at the bottom left and can either move up, down, left, or right. It needs to get to the '❤️' in the world. Unlike the previous assignment, the robot now knows where the heart is."
   ]
  },
  {
   "cell_type": "code",
   "execution_count": 2114,
   "metadata": {},
   "outputs": [],
   "source": [
    "MOVES = [(0,-1), (1,0), (0,1), (-1,0)]"
   ]
  },
  {
   "cell_type": "code",
   "execution_count": 2115,
   "metadata": {},
   "outputs": [],
   "source": [
    "good_start = (len(world)-1, 0)"
   ]
  },
  {
   "cell_type": "code",
   "execution_count": 2116,
   "metadata": {},
   "outputs": [],
   "source": [
    "goal = (0, len(world)-1)"
   ]
  },
  {
   "cell_type": "markdown",
   "metadata": {},
   "source": [
    "## Bad Robot\n",
    "\n",
    "And unlike the previous assignment, we have a bad robot '👾', too, that starts at the bottom right and can also move either up, down, left, or right. It wants to zap our robot. The zapper range isn't that great, so our robot is considered zapped if it is anywhere in a 3x3 cell centered at the bad robot."
   ]
  },
  {
   "cell_type": "code",
   "execution_count": 2117,
   "metadata": {},
   "outputs": [],
   "source": [
    "bad_start = (len(world)-1, len(world)-1)"
   ]
  },
  {
   "cell_type": "code",
   "execution_count": 2118,
   "metadata": {},
   "outputs": [],
   "source": [
    "# Update the world with this information\n",
    "world[good_start[0]][good_start[1]] = '🤖'\n",
    "world[goal[0]][goal[1]] = '❤️'\n",
    "world[bad_start[0]][bad_start[1]] = '👾'"
   ]
  },
  {
   "cell_type": "code",
   "execution_count": 2119,
   "metadata": {},
   "outputs": [
    {
     "name": "stdout",
     "output_type": "stream",
     "text": [
      "⬜⬜⬜⬜⬜⬜⬜⬜⬜⬜⬜⬜⬜⬜⬜⬜⬜⬜⬜⬜❤️\n",
      "⬜⬜⬜⬜⬜⬜⬜⬜⬜⬜⬜⬜⬜⬜⬜⬜⬜⬜⬜⬜⬜\n",
      "⬜⬜⬜⬜⬜⬜⬜⬜⬜⬜⬜⬜⬜⬜⬜⬜⬜⬜⬜⬜⬜\n",
      "⬜⬜⬜⬜⬜⬜⬜⬜⬜⬜⬜⬜⬜⬜⬜⬜⬜⬜⬜⬜⬜\n",
      "⬜⬜⬜⬜⬜⬜⬜⬜⬜⬜⬜⬜⬜⬜⬜⬜⬜⬜⬜⬜⬜\n",
      "⬜⬜⬜⬜⬜⬜⬜⬜⬜⬜⬜⬜⬜⬜⬜⬜⬜⬜⬜⬜⬜\n",
      "⬜⬜⬜⬜⬜⬜⬜⬜⬜⬜⬜⬜⬜⬜⬜⬜⬜⬜⬜⬜⬜\n",
      "⬜⬜⬜⬜⬜⬜⬜⬜⬜⬜⬜⬜⬜⬜⬜⬜⬜⬜⬜⬜⬜\n",
      "⬜⬜⬜⬜⬜⬜⬜⬜⬜⬜⬜⬜⬜⬜⬜⬜⬜⬜⬜⬜⬜\n",
      "⬜⬜⬜⬜⬜⬜⬜⬜⬜⬛⬛⬛⬜⬜⬜⬜⬜⬜⬜⬜⬜\n",
      "⬜⬜⬜⬜⬜⬜⬜⬜⬜⬛⬛⬛⬜⬜⬜⬜⬜⬜⬜⬜⬜\n",
      "⬜⬜⬜⬜⬜⬜⬜⬜⬜⬛⬛⬛⬜⬜⬜⬜⬜⬜⬜⬜⬜\n",
      "⬜⬜⬜⬜⬜⬜⬜⬜⬜⬜⬜⬜⬜⬜⬜⬜⬜⬜⬜⬜⬜\n",
      "⬜⬜⬜⬜⬜⬜⬜⬜⬜⬜⬜⬜⬜⬜⬜⬜⬜⬜⬜⬜⬜\n",
      "⬜⬜⬜⬜⬜⬜⬜⬜⬜⬜⬜⬜⬜⬜⬜⬜⬜⬜⬜⬜⬜\n",
      "⬜⬜⬜⬜⬜⬜⬜⬜⬜⬜⬜⬜⬜⬜⬜⬜⬜⬜⬜⬜⬜\n",
      "⬜⬜⬜⬜⬜⬜⬜⬜⬜⬜⬜⬜⬜⬜⬜⬜⬜⬜⬜⬜⬜\n",
      "⬜⬜⬜⬜⬜⬜⬜⬜⬜⬜⬜⬜⬜⬜⬜⬜⬜⬜⬜⬜⬜\n",
      "⬜⬜⬜⬜⬜⬜⬜⬜⬜⬜⬜⬜⬜⬜⬜⬜⬜⬜⬜⬜⬜\n",
      "⬜⬜⬜⬜⬜⬜⬜⬜⬜⬜⬜⬜⬜⬜⬜⬜⬜⬜⬜⬜⬜\n",
      "🤖⬜⬜⬜⬜⬜⬜⬜⬜⬜⬜⬜⬜⬜⬜⬜⬜⬜⬜⬜👾\n"
     ]
    }
   ],
   "source": [
    "# A nicer view of the world, without commas and brackets\n",
    "for row in world:\n",
    "    print(\"\".join(row))"
   ]
  },
  {
   "cell_type": "markdown",
   "metadata": {},
   "source": [
    "## Game\n",
    "\n",
    "* We have two players: our original good robot and the new bad robot '👾'\n",
    "* At each turn of the game, a player gets to move in the world\n",
    "* Players only get to move according to `MOVES`\n",
    "* '⬛' are obstacles that neither robot can traverse\n",
    "* Each player knows the other player's current location\n",
    "* '🤖' wants to get to the '❤️' without being zapped\n",
    "* '👾' is trying to zap '🤖'\n",
    "* '🤖' wins if it gets to the '❤️'\n",
    "* '👾' wins if it zaps the good robot\n",
    "* The game is over when either player wins or we've reached 82 plies (41 good robot moves and 41 bad robot moves)"
   ]
  },
  {
   "cell_type": "markdown",
   "metadata": {},
   "source": [
    "## Adversarial Search\n",
    "\n",
    "\n",
    "The MINIMAX pseudocode is as follows:\n",
    "\n",
    "```\n",
    "MINIMAX(state) returns action\n",
    "    return argmax action in Actions MIN-VALUE(RESULT(state,action))\n",
    "    \n",
    "\n",
    "MAX-VALUE(state) returns value\n",
    "if TERMINAL(state) return UTILITY(state)\n",
    "v <- -inf\n",
    "for each action in Actions(state)\n",
    "    v <- MAX(v, MIN-VALUE(RESULT(state, action))\n",
    "return v\n",
    "\n",
    "\n",
    "MIN-VALUE(state) returns value\n",
    "if TERMINAL(state) return UTILITY(state)\n",
    "v <- +inf\n",
    "for each action in Actions(state)\n",
    "    v <- MIN(v, MAX-VALUE(RESULT(state, action))\n",
    "return v\n",
    "```\n",
    "\n",
    "MINIMAX is used to model the opponent as a rational player that will also try it's best to win. When moves are simulated in the tree, that's just what they are, simulations. The actual board only changes once MINIMAX returns an action. You will probably need to maintain a deep copy of the world. Instead of going all the way to terminal nodes, use a depth parameter."
   ]
  },
  {
   "cell_type": "markdown",
   "metadata": {},
   "source": [
    "## Problem #1\n",
    "\n",
    "\n",
    "Implement the game: players, actions, scores, keeping track of turns, when the game is over, how the world changes, and what strategy each player uses (random moves or MINIMAX). \n",
    "* '🤖' will use MINIMAX with a depth of 2 (simulate I move and then my opponent moves -- that's it) \n",
    "* '👾' will choose actions at random. \n",
    "* '🤖' utility function = Euclidean distance to '👾' - Euclidean distance to '❤️' (cares about getting to '❤️' and not being zapped by '👾') \n",
    "* '👾' utility function = - Euclidean distance to '🤖' (just cares about zapping '🤖')\n",
    "\n",
    "\n",
    "When the game is over, print out the world (nicer view) with the following changes:\n",
    "* Replace a '⬜' with '🟥' to indicate the path of '👾', \n",
    "* Replace '⬜' with '🟩' to indicate the path of '🤖', and\n",
    "* '🤖', '👾', '❤️', and '⬛' are not replaced."
   ]
  },
  {
   "cell_type": "code",
   "execution_count": 2120,
   "metadata": {},
   "outputs": [],
   "source": [
    "# Your documentation, code, and tests start here."
   ]
  },
  {
   "cell_type": "code",
   "execution_count": 2121,
   "metadata": {},
   "outputs": [],
   "source": [
    "import random\n",
    "import math"
   ]
  },
  {
   "cell_type": "markdown",
   "metadata": {},
   "source": [
    "### is_valid_move\n",
    "\n",
    "This function checks whether a move is valid. A move is considered valid if its within the vertical and horizontal bounds of the world and making sure its not a '⬛'\n",
    "\n",
    "* **pos**: the current position\n",
    "* **world**: the search area\n",
    "\n",
    "**returns** bool(true if its a valid move, false if not)"
   ]
  },
  {
   "cell_type": "code",
   "execution_count": 2122,
   "metadata": {},
   "outputs": [],
   "source": [
    "def is_valid_move(pos, world):\n",
    "    x, y = pos\n",
    "    return 0 <= x < len(world) and 0 <= y < len(world[0]) and world[x][y] != '⬛'"
   ]
  },
  {
   "cell_type": "code",
   "execution_count": 2123,
   "metadata": {},
   "outputs": [],
   "source": [
    "world_example = [\n",
    "        ['⬜', '⬛', '⬜'],\n",
    "        ['⬜', '⬛', '⬜'],\n",
    "        ['⬜', '⬜', '⬛']\n",
    "    ]\n",
    "assert is_valid_move((0, 0), world_example) == True\n",
    "assert is_valid_move((0, 1), world_example) == False\n",
    "assert is_valid_move((3, 0), world_example) == False\n"
   ]
  },
  {
   "cell_type": "markdown",
   "metadata": {},
   "source": [
    "### print_current_world\n",
    "This function iterates over the world and prints one of the symbols('🤖', '👾', '❤️', '🟩', '🟥') based on what it is(good robot, bad robot, goal, good robot path, bad robot path )\n",
    "\n",
    "* **world**: the search area\n",
    "* **good_path**: the path of the good robot\n",
    "* **bad_path**: the path of the bad robot\n",
    "* **good_start**: the starting position of the good robot \n",
    "* **bad_start**: the starting position of the bad robot\n",
    "* **goal**: the goal node\n",
    "\n",
    "**returns** None (the function prints the current state of the world grid)"
   ]
  },
  {
   "cell_type": "code",
   "execution_count": 2124,
   "metadata": {},
   "outputs": [],
   "source": [
    "def print_current_world(world, good_path, bad_path, good_start, bad_start, goal):\n",
    "    for x in range(len(world)):\n",
    "        row = ''\n",
    "        for y in range(len(world[0])):\n",
    "            if (x, y) == good_start:\n",
    "                row += '🤖'  \n",
    "            elif (x, y) == bad_start:\n",
    "                row += '👾'  \n",
    "            elif (x, y) == goal:\n",
    "                row += '❤️'  \n",
    "            elif (x, y) in good_path:\n",
    "                row += '🟩'  \n",
    "            elif (x, y) in bad_path:\n",
    "                row += '🟥'  \n",
    "            else:\n",
    "                row += world[x][y] \n",
    "        print(row)\n",
    "    return None"
   ]
  },
  {
   "cell_type": "code",
   "execution_count": 2125,
   "metadata": {},
   "outputs": [
    {
     "name": "stdout",
     "output_type": "stream",
     "text": [
      "❤️🤖\n",
      "👾⬛\n",
      "🟩⬛🤖\n",
      "⬛🟩🟥\n",
      "❤️🟥👾\n",
      "🤖🟥⬛\n",
      "🟩❤️🟥\n",
      "⬛🟩👾\n"
     ]
    }
   ],
   "source": [
    "assert print_current_world([['⬜', '⬜'], ['⬜', '⬛']], [], [], (0, 1), (1, 0), (0, 0)) is None\n",
    "assert print_current_world([['⬜', '⬛', '⬜'], ['⬛', '⬜', '⬜'], ['⬛', '⬜', '⬛']],\n",
    "        [(0, 0), (1, 1)], [(1, 2), (2, 1)], (0, 2), (2, 2), (2, 0)) is None\n",
    "\n",
    "    # Test case 3: Medium world with overlapping areas for paths and robots close to the goal\n",
    "assert print_current_world([['⬜', '⬜', '⬛'], ['⬜', '⬛', '⬜'], ['⬛', '⬜', '⬛']],\n",
    "        [(1, 0), (2, 1)],[(0, 1), (1, 2)], (0, 0), (2, 2), (1, 1)) is None"
   ]
  },
  {
   "cell_type": "markdown",
   "metadata": {},
   "source": [
    "### valid_moves\n",
    "\n",
    "* **pos**: the current position(coordinates) in the world \n",
    "* **world**: the search area \n",
    "* **moves**: the list of possible moves\n",
    "\n",
    "**returns**: A list of valid new positions after applying the possible moves"
   ]
  },
  {
   "cell_type": "code",
   "execution_count": 2126,
   "metadata": {},
   "outputs": [],
   "source": [
    "def valid_moves(pos, world, moves):\n",
    "  valid = []\n",
    "  for move in moves:\n",
    "    pos_new = (pos[0] + move[0], pos[1] + move[1])\n",
    "    if is_valid_move(pos_new, world):\n",
    "      valid.append(pos_new)\n",
    "  return valid"
   ]
  },
  {
   "cell_type": "code",
   "execution_count": 2127,
   "metadata": {},
   "outputs": [],
   "source": [
    "assert valid_moves((1, 0), [['⬜', '⬛'], ['⬜', '⬜']], [(0, 1), (1, 0), (-1, 0), (0, -1)]) == [(1, 1), (0, 0)]\n",
    "assert valid_moves((2, 1), [['⬜', '⬜', '⬜'], ['⬛', '⬜', '⬛'], ['⬜', '⬜', '⬜']], [(1, 0), (0, 1), (-1, 0), (0, -1)]) == [(2, 2), (1, 1), (2, 0)]\n",
    "assert valid_moves((0, 1), [['⬜', '⬛', '⬜'], ['⬜', '⬜', '⬜'], ['⬛', '⬛', '⬜']], [(1, 0), (0, 1), (-1, 0), (0, -1)]) == [(1, 1), (0, 2), (0, 0)]"
   ]
  },
  {
   "cell_type": "markdown",
   "metadata": {},
   "source": [
    "### euclidean_distance\n",
    "\n",
    "This function calculates the Euclidean distance between two points\n",
    "* **pos1**: coordinates of the first point\n",
    "* **pos2** coordinates of the second point \n",
    "\n",
    "**returns** Float representing the Euclidean distance between the two points"
   ]
  },
  {
   "cell_type": "code",
   "execution_count": 2128,
   "metadata": {},
   "outputs": [],
   "source": [
    "def euclidean_distance(pos1, pos2):\n",
    "     return math.sqrt((pos1[0] - pos2[0]) ** 2 + (pos1[1] - pos2[1]) ** 2)"
   ]
  },
  {
   "cell_type": "code",
   "execution_count": 2129,
   "metadata": {},
   "outputs": [],
   "source": [
    "assert euclidean_distance((0, 0), (3, 0)) == 3.0\n",
    "assert euclidean_distance((0, 0), (0, 4)) == 4.0\n",
    "assert euclidean_distance((1, 1), (4, 5)) == 5.0"
   ]
  },
  {
   "cell_type": "markdown",
   "metadata": {},
   "source": [
    "### is_zapped\n",
    "This function checks if the good robot is within the zap range of the bad robot. Zap range is defined if the good robot is anywhere in a 3x3 cell centered at the bad robot.\n",
    "\n",
    "* **good_pos**: the position of the good robot \n",
    "* **bad_pos**: the position of the bad robot \n",
    "\n",
    "**returns**: bool (true if the good robot is in zap range )"
   ]
  },
  {
   "cell_type": "code",
   "execution_count": 2130,
   "metadata": {},
   "outputs": [],
   "source": [
    "def is_zapped(good_pos, bad_pos):\n",
    "    return abs(good_pos[0] - bad_pos[0]) <= 1 and abs(good_pos[1] - bad_pos[1]) <= 1"
   ]
  },
  {
   "cell_type": "code",
   "execution_count": 2131,
   "metadata": {},
   "outputs": [],
   "source": [
    "assert is_zapped((0, 0), (0, 1)) == True\n",
    "assert is_zapped((1, 1), (0, 0)) == True\n",
    "assert is_zapped((2, 2), (0, 0)) == False"
   ]
  },
  {
   "cell_type": "markdown",
   "metadata": {},
   "source": [
    "### good_robot_evaluation\n",
    "\n",
    "This function evaluates the position of the good robot based on its distances to the bad robot and the goal. Computes the Euclidean distance from the good robot to the bad robot and from the good robot to the goal.\n",
    "\n",
    "* **good_pos**: the position of the good robot \n",
    "* **bad_pos**: the position of the bad robot \n",
    "* **goal_pos**: the position of the goal \n",
    "\n",
    "**returns**: A utility value, where a higher value suggests the good robot is farther from the bad robot and closer to the goal."
   ]
  },
  {
   "cell_type": "code",
   "execution_count": 2132,
   "metadata": {},
   "outputs": [],
   "source": [
    "def good_robot_evaluation(good_pos, bad_pos, goal_pos):\n",
    "  distance_to_bad = euclidean_distance(good_pos, bad_pos)\n",
    "  distance_to_goal = euclidean_distance(good_pos, goal_pos)\n",
    "  utility = distance_to_bad - distance_to_goal\n",
    "  return utility"
   ]
  },
  {
   "cell_type": "code",
   "execution_count": 2133,
   "metadata": {},
   "outputs": [],
   "source": [
    "assert good_robot_evaluation((1, 1), (4, 4), (2, 2)) > 0\n",
    "assert good_robot_evaluation((3, 3), (1, 1), (5, 5)) == 0\n",
    "assert good_robot_evaluation((2, 2), (1, 1), (5, 5)) < 0"
   ]
  },
  {
   "cell_type": "markdown",
   "metadata": {},
   "source": [
    "### bad_robot_evaluation\n",
    "This function evaluates the position of the bad robot based on its distance to the good robot.\n",
    "Computes the Euclidean distance between the bad robot and the good robot.\n",
    "\n",
    "* **bad_pos**: the position of the bad robot \n",
    "* **good_pos**: the position of the good robot \n",
    "* **goal**: the position of the goal \n",
    "\n",
    "**returns** A negative utility value, where a more negative value suggests the bad robot is farther from the good robot."
   ]
  },
  {
   "cell_type": "code",
   "execution_count": 2134,
   "metadata": {},
   "outputs": [],
   "source": [
    "def bad_robot_evaluation(bad_pos, good_pos, goal):\n",
    "  distance_to_good = euclidean_distance(bad_pos, good_pos)\n",
    "  utility = -distance_to_good\n",
    "  return utility"
   ]
  },
  {
   "cell_type": "code",
   "execution_count": 2135,
   "metadata": {},
   "outputs": [],
   "source": [
    "assert bad_robot_evaluation((0, 0), (5, 5), (2, 2)) < -7\n",
    "assert bad_robot_evaluation((1, 1), (2, 2), (3, 3)) < -1.4\n",
    "assert bad_robot_evaluation((3, 3), (3, 3), (2, 2)) == 0"
   ]
  },
  {
   "cell_type": "markdown",
   "metadata": {},
   "source": [
    "### terminal_test\n",
    "This function checks whether the game has reached a terminal state, based on 3 conditions:\n",
    "if good robot has reached the goal, if good robot has been zapped by the bad robot, if search depth has reached the depth limit\n",
    "\n",
    "* **state**: the current game state, it contains(good_pos: position of good robot and bad_pos: position of bad robot )\n",
    "* **goal**: the position of the goal \n",
    "* **depth**: the current search depth in the game tree \n",
    "* **depth_limit**: the maximum allowed depth for the search.\n",
    "\n",
    "**returns**: bool: True if the game is in a terminal state, false if not "
   ]
  },
  {
   "cell_type": "code",
   "execution_count": 2136,
   "metadata": {},
   "outputs": [],
   "source": [
    "def terminal_test(state, goal, depth, depth_limit):\n",
    "    if state['good_pos'] == goal:\n",
    "        return True\n",
    "    if is_zapped(state['good_pos'], state['bad_pos']):\n",
    "        return True\n",
    "    if depth >= depth_limit:\n",
    "        return True\n",
    "    return False"
   ]
  },
  {
   "cell_type": "code",
   "execution_count": 2137,
   "metadata": {},
   "outputs": [],
   "source": [
    "assert terminal_test({'good_pos': (2, 2), 'bad_pos': (0, 0)}, (2, 2), 0, 5) == True\n",
    "assert terminal_test({'good_pos': (1, 1), 'bad_pos': (2, 2)}, (3, 3), 2, 5) == True\n",
    "assert terminal_test({'good_pos': (0, 0), 'bad_pos': (1, 1)}, (3, 3), 5, 5) == True"
   ]
  },
  {
   "cell_type": "markdown",
   "metadata": {},
   "source": [
    "### get_actions\n",
    "This function returns the valid actions (moves) the robot can take from its current position. This is called by the good robot and bad robot.\n",
    "\n",
    "* **pos**: current position of either good robot or bad robot \n",
    "* **world**: the search area \n",
    "* **moves**: list of possible moves \n",
    "\n",
    "**returns** list of valid positions that either robot can move to from current position "
   ]
  },
  {
   "cell_type": "code",
   "execution_count": 2138,
   "metadata": {},
   "outputs": [],
   "source": [
    "def get_actions(pos, world, moves):\n",
    "    actions = valid_moves(pos, world, moves)\n",
    "    return actions"
   ]
  },
  {
   "cell_type": "code",
   "execution_count": 2139,
   "metadata": {},
   "outputs": [],
   "source": [
    "assert get_actions((1, 0), [['⬜', '⬛'], ['⬜', '⬜']], [(0, 1), (1, 0), (-1, 0), (0, -1)]) == [(1, 1), (0, 0)]\n",
    "assert get_actions((2, 1), [['⬜', '⬜', '⬜'], ['⬛', '⬜', '⬛'], ['⬜', '⬜', '⬜']], [(1, 0), (0, 1), (-1, 0), (0, -1)]) == [(2, 2), (1, 1), (2, 0)]\n",
    "assert get_actions((0, 1), [['⬜', '⬛', '⬜'], ['⬜', '⬜', '⬜'], ['⬛', '⬛', '⬜']], [(1, 0), (0, 1), (-1, 0), (0, -1)]) == [(1, 1), (0, 2), (0, 0)]\n"
   ]
  },
  {
   "cell_type": "markdown",
   "metadata": {},
   "source": [
    "### result_state\n",
    "This function returns the new state after a robot (either 'good' or 'bad') makes a move.\n",
    "The new state is a copy of the current state, but with the updated position for the robot who made the move.\n",
    "\n",
    "* **state**: The current state of the game, containing: good_pos and bad_pos\n",
    "* **player**: The robot making the move, either 'good' or 'bad'.\n",
    "* **action**: The new position (x, y) the player is moving to.\n",
    "\n",
    "**returns** A new state dictionary with the updated position for the specified robot, while the other robot's position remains unchanged.\n"
   ]
  },
  {
   "cell_type": "code",
   "execution_count": 2140,
   "metadata": {},
   "outputs": [],
   "source": [
    "def result_state(state, player, action):\n",
    "    new_state = {\n",
    "        'good_pos': state['good_pos'],\n",
    "        'bad_pos': state['bad_pos']\n",
    "    }\n",
    "    if player == 'good':\n",
    "        new_state['good_pos'] = action\n",
    "    elif player == 'bad':\n",
    "        new_state['bad_pos'] = action\n",
    "    return new_state"
   ]
  },
  {
   "cell_type": "code",
   "execution_count": 2141,
   "metadata": {},
   "outputs": [],
   "source": [
    "state = {'good_pos': (0, 0), 'bad_pos': (2, 2)}\n",
    "assert result_state(state, 'good', (1, 1)) == {'good_pos': (1, 1), 'bad_pos': (2, 2)}\n",
    "\n",
    "state = {'good_pos': (0, 0), 'bad_pos': (2, 2)}\n",
    "assert result_state(state, 'bad', (1, 2)) == {'good_pos': (0, 0), 'bad_pos': (1, 2)}\n",
    "\n",
    "state = {'good_pos': (0, 0), 'bad_pos': (2, 2)}\n",
    "assert result_state(state, 'good', (0, 0)) == {'good_pos': (0, 0), 'bad_pos': (2, 2)}"
   ]
  },
  {
   "cell_type": "markdown",
   "metadata": {},
   "source": [
    "### evaluate_state\n",
    "This function evaluates the current game state based on the robot. If robot is good, the function calculates the utility for the good robot, if robot is bad, the function calculates the utility for the bad robot\n",
    "\n",
    "* **state**: current state of the game, containing: good_pos and bad_pos \n",
    "* **goal**: the position of the goal \n",
    "* **robot**:  the robot('good' or 'bad') for whom the evaluation is being performed.\n",
    "\n",
    "**returns**: float: The utility value for the current state"
   ]
  },
  {
   "cell_type": "code",
   "execution_count": 2142,
   "metadata": {},
   "outputs": [],
   "source": [
    "def evaluate_state(state, goal, robot):\n",
    "    if robot == 'good':\n",
    "        return good_robot_evaluation(state['good_pos'], state['bad_pos'], goal)\n",
    "    elif robot == 'bad':\n",
    "        return bad_robot_evaluation(state['bad_pos'], state['good_pos'], goal)"
   ]
  },
  {
   "cell_type": "code",
   "execution_count": 2143,
   "metadata": {},
   "outputs": [],
   "source": [
    "state = {'good_pos': (0, 0), 'bad_pos': (4, 4)}\n",
    "goal_example = (5, 5)\n",
    "assert evaluate_state(state, goal_example, 'good') < 0\n",
    "assert evaluate_state(state, goal_example, 'bad') < 0\n",
    "\n",
    "state = {'good_pos': (3, 3), 'bad_pos': (2, 2)}\n",
    "goal_example = (6, 6)\n",
    "assert evaluate_state(state, goal_example, 'good') < 0"
   ]
  },
  {
   "cell_type": "markdown",
   "metadata": {},
   "source": [
    "### max_value\n",
    "This function implements the \"max\" part of the Minimax algorithm. It calculates the maximum utility that the player (usually the good robot) can achieve from a given game state. It explores all possible actions from the current state, calling the min_value function to evaluate the opponent's response. If a terminal condition is met (goal reached, zapped, or depth limit reached), it evaluates the state.\n",
    "\n",
    "* **state**: The current game state containing the positions of the good and bad robots.\n",
    "* **world**: the search area \n",
    "* **goal**: position of the goal \n",
    "* **moves** A list of possible moves for the robot \n",
    "* **depth** current depth of the search tree \n",
    "* **depth_limit**: the maximum allowed depth for the search \n",
    "* **robot**: the robot(good or bad) making the move\n",
    "* **opponent**: the opponent(good or bad robot) who responds to the player's move\n",
    "\n",
    "**returns** the maximum utility value for the robot from the given game state."
   ]
  },
  {
   "cell_type": "code",
   "execution_count": 2144,
   "metadata": {},
   "outputs": [],
   "source": [
    "def max_value(state, world, goal, moves, depth, depth_limit, robot, opponent):\n",
    "    if terminal_test(state, goal, depth, depth_limit):\n",
    "        return evaluate_state(state, goal, robot)\n",
    "    v = -math.inf\n",
    "    actions = get_actions(state[f'{robot}_pos'], world, moves)\n",
    "    for action in actions:\n",
    "        result = result_state(state, robot, action)\n",
    "        v = max(v, min_value(result, world, goal, moves, depth + 1, depth_limit, robot, opponent))\n",
    "    return v"
   ]
  },
  {
   "cell_type": "code",
   "execution_count": 2145,
   "metadata": {},
   "outputs": [],
   "source": [
    "world_example = [\n",
    "        ['⬜', '⬜', '⬛'],\n",
    "        ['⬛', '⬜', '⬛'],\n",
    "        ['⬜', '⬜', '⬛']\n",
    "    ]\n",
    "moves_example = [(0, 1), (1, 0), (0, -1), (-1, 0)]\n",
    "goal_example = (2, 2)\n",
    "\n",
    "state = {'good_pos': (2, 2), 'bad_pos': (0, 0)}\n",
    "assert max_value(state, world_example, goal_example, moves_example, 0, 3, 'good', 'bad') > 0\n",
    "\n",
    "state = {'good_pos': (1, 1), 'bad_pos': (1, 2)}\n",
    "assert max_value(state, world_example, goal_example, moves_example, 0, 3, 'good', 'bad') < 0\n",
    "\n",
    "state = {'good_pos': (0, 0), 'bad_pos': (2, 2)}\n",
    "assert max_value(state, world_example, goal_example, moves_example, 0, 3, 'good', 'bad') < 0"
   ]
  },
  {
   "cell_type": "markdown",
   "metadata": {},
   "source": [
    "### min_value\n",
    "This function implements the \"min\" part of the Minimax algorithm. It calculates the minimum utility that the opponent (usually the bad robot) can achieve from a given game state. It explores all possible actions from the current state, calling the max_value function to evaluate the player's response. If a terminal condition is met (goal reached, zapped, or depth limit reached), it evaluates the state.\n",
    "\n",
    "* **state**: The current game state containing the positions of the good and bad robots.\n",
    "* **world**: the search area \n",
    "* **goal**: position of the goal \n",
    "* **moves** A list of possible moves for the robot \n",
    "* **depth** current depth of the search tree \n",
    "* **depth_limit**: the maximum allowed depth for the search \n",
    "* **robot**: the robot(good or bad) making the move\n",
    "* **opponent**: the opponent(good or bad robot) who responds to the player's move\n",
    "\n",
    "**returns** float: The minimum utility value for the opponent from the given game state."
   ]
  },
  {
   "cell_type": "code",
   "execution_count": 2146,
   "metadata": {},
   "outputs": [],
   "source": [
    "\n",
    "\n",
    "def min_value(state, world, goal, moves, depth, depth_limit, player, opponent):\n",
    "    if terminal_test(state, goal, depth, depth_limit):\n",
    "        return evaluate_state(state, goal, player)\n",
    "    v = math.inf\n",
    "    actions = get_actions(state[f'{opponent}_pos'], world, moves)\n",
    "    for action in actions:\n",
    "        result = result_state(state, opponent, action)\n",
    "        v = min(v, max_value(result, world, goal, moves, depth + 1, depth_limit, player, opponent))\n",
    "    return v"
   ]
  },
  {
   "cell_type": "code",
   "execution_count": 2147,
   "metadata": {},
   "outputs": [],
   "source": [
    "def minimax_decision(state, world, goal, moves, depth_limit, player):\n",
    "    if player == 'good':\n",
    "        opponent = 'bad'\n",
    "    else:\n",
    "        opponent = 'good'\n",
    "    best_score = -math.inf\n",
    "    best_action = None\n",
    "    actions = get_actions(state[f'{player}_pos'], world, moves)\n",
    "    for action in actions:\n",
    "        result = result_state(state, player, action)\n",
    "        score = min_value(result, world, goal, moves, 1, depth_limit, player, opponent)\n",
    "        if score > best_score:\n",
    "            best_score = score\n",
    "            best_action = action\n",
    "    return best_action"
   ]
  },
  {
   "cell_type": "code",
   "execution_count": 2148,
   "metadata": {},
   "outputs": [],
   "source": [
    "def check_end_conditions(good_pos, bad_pos, goal):\n",
    "    if good_pos == goal:\n",
    "        return True\n",
    "    if is_zapped(good_pos, bad_pos):\n",
    "        return True\n",
    "    return False"
   ]
  },
  {
   "cell_type": "code",
   "execution_count": 2149,
   "metadata": {},
   "outputs": [],
   "source": [
    "def good_robot_turn(good_pos, bad_pos, world, goal, moves, strategy, depth, path):\n",
    "    if strategy == 'minimax':\n",
    "        state = {'good_pos': good_pos, 'bad_pos': bad_pos}\n",
    "        action = minimax_decision(state, world, goal, moves, depth_limit=depth, player='good')\n",
    "        if action is not None:\n",
    "            good_pos = action\n",
    "            path.append(good_pos)\n",
    "    elif strategy == 'random':\n",
    "        possible_moves = valid_moves(good_pos, world, moves)\n",
    "        if possible_moves:\n",
    "            good_pos = random.choice(possible_moves)\n",
    "            path.append(good_pos)\n",
    "    return good_pos, path"
   ]
  },
  {
   "cell_type": "code",
   "execution_count": 2150,
   "metadata": {},
   "outputs": [],
   "source": [
    "def bad_robot_turn(bad_pos, good_pos, world, goal, moves, strategy, depth, path):\n",
    "    if strategy == 'minimax':\n",
    "        state = {'good_pos': good_pos, 'bad_pos': bad_pos}\n",
    "        action = minimax_decision(state, world, goal, moves, depth_limit=depth, player='bad')\n",
    "        if action is not None:\n",
    "            bad_pos = action\n",
    "            path.append(bad_pos)\n",
    "    elif strategy == 'random':\n",
    "        possible_moves = valid_moves(bad_pos, world, moves)\n",
    "        if possible_moves:\n",
    "            bad_pos = random.choice(possible_moves)\n",
    "            path.append(bad_pos)\n",
    "    return bad_pos, path"
   ]
  },
  {
   "cell_type": "markdown",
   "metadata": {},
   "source": [
    "<a id=\"breadth_first_search\"></a>\n",
    "## run_robot_game\n",
    "\n",
    "Description of your function.\n",
    "\n",
    "* **world** List[List[str]]: the search area\n",
    "* **good_start** Tuple[int, int]: the starting location of the good robot\n",
    "* **bad_start** Tuple[int, int]: the starting location of the bad robot\n",
    "* **goal** Tuple[int, int]: the goal location in the world\n",
    "* **moves** List[Tuple[int, int]]: the allowable moves in the world\n",
    "* **good_strategy** str: name of strategy to use for good robot: either random_strategy or MINIMAX with option to set depth\n",
    "* **bad_strategy** str: name of strategy to use for bad robot: either random_strategy or MINIMAX with option to set depth\n",
    "\n",
    "\n",
    "**returns** None (but prints out a nice view of the world and replaces appropriate cells)."
   ]
  },
  {
   "cell_type": "code",
   "execution_count": 2151,
   "metadata": {},
   "outputs": [],
   "source": [
    "def run_robot_game(world, good_start, bad_start, goal, moves, good_strategy, bad_strategy, good_depth, bad_depth, max_turns=82):\n",
    "    good_pos = good_start\n",
    "    bad_pos = bad_start\n",
    "    good_path = [good_start]\n",
    "    bad_path = [bad_start]\n",
    "    turn = 0\n",
    "    game_over = False\n",
    "    while turn < max_turns and not game_over:\n",
    "        if check_end_conditions(good_pos, bad_pos, goal):\n",
    "            game_over = True\n",
    "            break\n",
    "        good_pos, good_path = good_robot_turn(\n",
    "            good_pos, bad_pos, world, goal, moves, good_strategy, good_depth, good_path)\n",
    "        turn += 1\n",
    "        if turn >= max_turns or check_end_conditions(good_pos, bad_pos, goal):\n",
    "            game_over = True\n",
    "            break\n",
    "        if check_end_conditions(good_pos, bad_pos, goal):\n",
    "            game_over = True\n",
    "            break\n",
    "        bad_pos, bad_path = bad_robot_turn(\n",
    "            bad_pos, good_pos, world, goal, moves, bad_strategy, bad_depth, bad_path)\n",
    "        turn += 1\n",
    "        if check_end_conditions(good_pos, bad_pos, goal):\n",
    "            game_over = True\n",
    "            break\n",
    "    print_current_world(world, good_path, bad_path, good_start, bad_start, goal)"
   ]
  },
  {
   "cell_type": "code",
   "execution_count": 2152,
   "metadata": {},
   "outputs": [
    {
     "name": "stdout",
     "output_type": "stream",
     "text": [
      "🟩🟩🟩🟩🟩🟩🟩🟩🟩🟩🟩🟩🟩🟩🟩🟩🟩🟩🟩🟩❤️\n",
      "🟩⬜⬜⬜⬜⬜⬜⬜⬜⬜⬜⬜⬜⬜⬜⬜⬜⬜⬜⬜⬜\n",
      "🟩⬜⬜⬜⬜⬜⬜⬜⬜⬜⬜⬜⬜⬜⬜⬜⬜⬜⬜⬜⬜\n",
      "🟩⬜⬜⬜⬜⬜⬜⬜⬜⬜⬜⬜⬜⬜⬜⬜⬜⬜⬜⬜⬜\n",
      "🟩⬜⬜⬜⬜⬜⬜⬜⬜⬜⬜⬜⬜⬜⬜⬜⬜⬜⬜⬜⬜\n",
      "🟩⬜⬜⬜⬜⬜⬜⬜⬜⬜⬜⬜⬜⬜⬜⬜⬜⬜⬜⬜⬜\n",
      "🟩⬜⬜⬜⬜⬜⬜⬜⬜⬜⬜⬜⬜⬜⬜⬜⬜⬜⬜⬜⬜\n",
      "🟩⬜⬜⬜⬜⬜⬜⬜⬜⬜⬜⬜⬜⬜⬜⬜⬜⬜⬜⬜⬜\n",
      "🟩⬜⬜⬜⬜⬜⬜⬜⬜⬜⬜⬜⬜⬜⬜⬜⬜⬜⬜⬜⬜\n",
      "🟩⬜⬜⬜⬜⬜⬜⬜⬜⬛⬛⬛⬜⬜⬜⬜⬜⬜⬜⬜⬜\n",
      "🟩⬜⬜⬜⬜⬜⬜⬜⬜⬛⬛⬛⬜⬜⬜⬜⬜⬜⬜⬜⬜\n",
      "🟩⬜⬜⬜⬜⬜⬜⬜⬜⬛⬛⬛⬜⬜⬜⬜⬜⬜⬜⬜⬜\n",
      "🟩⬜⬜⬜⬜⬜⬜⬜⬜⬜⬜⬜⬜⬜⬜⬜⬜⬜⬜⬜⬜\n",
      "🟩⬜⬜⬜⬜⬜⬜⬜⬜⬜⬜⬜⬜⬜⬜⬜⬜⬜⬜⬜⬜\n",
      "🟩⬜⬜⬜⬜⬜⬜⬜⬜⬜⬜⬜⬜⬜⬜⬜⬜⬜⬜⬜⬜\n",
      "🟩⬜⬜⬜⬜⬜⬜⬜⬜⬜⬜⬜⬜⬜⬜⬜🟥🟥⬜⬜⬜\n",
      "🟩⬜⬜⬜⬜⬜⬜⬜⬜⬜⬜⬜⬜⬜⬜⬜🟥🟥⬜⬜⬜\n",
      "🟩⬜⬜⬜⬜⬜⬜⬜⬜⬜⬜⬜⬜⬜⬜⬜⬜🟥🟥⬜⬜\n",
      "🟩⬜⬜⬜⬜⬜⬜⬜⬜⬜⬜⬜⬜⬜⬜⬜⬜🟥⬜⬜⬜\n",
      "🟩⬜⬜⬜⬜⬜⬜⬜⬜⬜⬜⬜⬜⬜⬜🟥🟥🟥🟥🟥🟥\n",
      "🤖⬜⬜⬜⬜⬜⬜⬜⬜⬜⬜⬜⬜⬜⬜🟥🟥🟥🟥🟥👾\n"
     ]
    }
   ],
   "source": [
    "# Modify arguments, but when you uncomment the line below, it should ONLY print out a nice view of the world when the game is over\n",
    "\n",
    "result_1 = run_robot_game(world, good_start, bad_start, goal, MOVES, good_strategy='minimax', bad_strategy='random', good_depth=2, bad_depth=0)"
   ]
  },
  {
   "cell_type": "markdown",
   "metadata": {},
   "source": [
    "## Problem #2\n",
    "\n",
    "\n",
    "Play the game again, but in this problem, '🤖' and '👾' both use MINIMAX with a depth of 2."
   ]
  },
  {
   "cell_type": "code",
   "execution_count": 2153,
   "metadata": {},
   "outputs": [
    {
     "name": "stdout",
     "output_type": "stream",
     "text": [
      "🟩🟩🟩🟩🟩🟩🟩🟩🟩🟩🟩🟩🟩🟩🟩🟩🟩🟩🟩🟩❤️\n",
      "🟩⬜⬜⬜⬜⬜⬜⬜⬜⬜⬜⬜⬜⬜⬜⬜⬜⬜⬜⬜⬜\n",
      "🟩⬜⬜⬜⬜⬜⬜⬜⬜⬜⬜⬜⬜⬜⬜⬜⬜⬜⬜⬜⬜\n",
      "🟩⬜⬜⬜⬜⬜⬜⬜🟥🟥🟥🟥🟥🟥🟥🟥🟥🟥🟥⬜⬜\n",
      "🟩⬜⬜⬜⬜⬜⬜⬜🟥⬜⬜⬜⬜⬜⬜⬜⬜⬜⬜⬜⬜\n",
      "🟩⬜⬜⬜⬜⬜⬜⬜🟥⬜⬜⬜⬜⬜⬜⬜⬜⬜⬜⬜⬜\n",
      "🟩⬜⬜⬜⬜⬜⬜⬜🟥⬜⬜⬜⬜⬜⬜⬜⬜⬜⬜⬜⬜\n",
      "🟩⬜⬜⬜⬜⬜⬜⬜🟥⬜⬜⬜⬜⬜⬜⬜⬜⬜⬜⬜⬜\n",
      "🟩⬜⬜⬜⬜⬜⬜⬜🟥⬜⬜⬜⬜⬜⬜⬜⬜⬜⬜⬜⬜\n",
      "🟩⬜⬜⬜⬜⬜⬜⬜🟥⬛⬛⬛⬜⬜⬜⬜⬜⬜⬜⬜⬜\n",
      "🟩⬜⬜⬜⬜⬜⬜⬜🟥⬛⬛⬛⬜⬜⬜⬜⬜⬜⬜⬜⬜\n",
      "🟩⬜⬜⬜⬜⬜⬜⬜🟥⬛⬛⬛⬜⬜⬜⬜⬜⬜⬜⬜⬜\n",
      "🟩⬜⬜⬜⬜⬜⬜⬜🟥🟥🟥⬜⬜⬜⬜⬜⬜⬜⬜⬜⬜\n",
      "🟩⬜⬜⬜⬜⬜⬜⬜⬜⬜🟥⬜⬜⬜⬜⬜⬜⬜⬜⬜⬜\n",
      "🟩⬜⬜⬜⬜⬜⬜⬜⬜⬜🟥⬜⬜⬜⬜⬜⬜⬜⬜⬜⬜\n",
      "🟩⬜⬜⬜⬜⬜⬜⬜⬜⬜🟥⬜⬜⬜⬜⬜⬜⬜⬜⬜⬜\n",
      "🟩⬜⬜⬜⬜⬜⬜⬜⬜⬜🟥⬜⬜⬜⬜⬜⬜⬜⬜⬜⬜\n",
      "🟩⬜⬜⬜⬜⬜⬜⬜⬜⬜🟥⬜⬜⬜⬜⬜⬜⬜⬜⬜⬜\n",
      "🟩⬜⬜⬜⬜⬜⬜⬜⬜⬜🟥⬜⬜⬜⬜⬜⬜⬜⬜⬜⬜\n",
      "🟩⬜⬜⬜⬜⬜⬜⬜⬜⬜🟥⬜⬜⬜⬜⬜⬜⬜⬜⬜⬜\n",
      "🤖⬜⬜⬜⬜⬜⬜⬜⬜⬜🟥🟥🟥🟥🟥🟥🟥🟥🟥🟥👾\n"
     ]
    }
   ],
   "source": [
    "result_2 = run_robot_game(world, good_start, bad_start, goal, MOVES, good_strategy='minimax', bad_strategy='minimax', good_depth=2, bad_depth=2)"
   ]
  },
  {
   "cell_type": "markdown",
   "metadata": {},
   "source": [
    "## Problem #3\n",
    "\n",
    "\n",
    "Play the game again, but in this problem '🤖' uses a depth of 2; '👾' uses a depth of 8."
   ]
  },
  {
   "cell_type": "code",
   "execution_count": 2154,
   "metadata": {},
   "outputs": [
    {
     "name": "stdout",
     "output_type": "stream",
     "text": [
      "🟩🟩🟩🟩🟩🟩🟩🟩🟩🟩🟩🟩🟩🟩🟩🟩🟩🟩🟩🟩❤️\n",
      "🟩⬜⬜⬜⬜⬜⬜⬜⬜⬜⬜⬜⬜⬜⬜⬜⬜⬜⬜⬜⬜\n",
      "🟩⬜⬜⬜⬜⬜⬜⬜⬜⬜⬜⬜⬜⬜⬜⬜⬜⬜⬜⬜⬜\n",
      "🟩⬜⬜⬜⬜⬜⬜⬜⬜⬜⬜⬜⬜⬜⬜⬜⬜⬜⬜⬜⬜\n",
      "🟩⬜⬜⬜⬜⬜⬜⬜⬜⬜⬜⬜⬜⬜⬜⬜⬜⬜⬜⬜⬜\n",
      "🟩⬜⬜⬜⬜⬜⬜⬜⬜⬜⬜⬜⬜⬜⬜⬜🟥⬜⬜⬜⬜\n",
      "🟩⬜⬜⬜⬜⬜⬜⬜⬜⬜⬜⬜⬜⬜⬜⬜🟥⬜⬜⬜⬜\n",
      "🟩⬜⬜⬜⬜⬜⬜⬜⬜⬜⬜⬜⬜⬜⬜⬜🟥⬜⬜⬜⬜\n",
      "🟩⬜⬜⬜⬜⬜🟥🟥🟥🟥🟥🟥🟥🟥🟥🟥🟥⬜⬜⬜⬜\n",
      "🟩⬜⬜⬜⬜⬜🟥⬜⬜⬛⬛⬛⬜⬜⬜⬜⬜⬜⬜⬜⬜\n",
      "🟩⬜⬜⬜⬜⬜🟥🟥⬜⬛⬛⬛⬜⬜⬜⬜⬜⬜⬜⬜⬜\n",
      "🟩⬜⬜⬜⬜⬜⬜🟥🟥⬛⬛⬛⬜⬜⬜⬜⬜⬜⬜⬜⬜\n",
      "🟩⬜⬜⬜⬜⬜⬜⬜🟥⬜⬜⬜⬜⬜⬜⬜⬜⬜⬜⬜⬜\n",
      "🟩⬜⬜⬜⬜⬜⬜⬜🟥⬜⬜⬜⬜⬜⬜⬜⬜⬜⬜⬜⬜\n",
      "🟩⬜⬜⬜⬜⬜⬜⬜🟥⬜⬜⬜⬜⬜⬜⬜⬜⬜⬜⬜⬜\n",
      "🟩⬜⬜⬜⬜⬜⬜⬜🟥🟥🟥⬜⬜⬜⬜⬜⬜⬜⬜⬜⬜\n",
      "🟩⬜⬜⬜⬜⬜⬜⬜⬜⬜🟥⬜⬜⬜⬜⬜⬜⬜⬜⬜⬜\n",
      "🟩⬜⬜⬜⬜⬜⬜⬜⬜⬜🟥⬜⬜⬜⬜⬜⬜⬜⬜⬜⬜\n",
      "🟩⬜⬜⬜⬜⬜⬜⬜⬜⬜🟥⬜⬜⬜⬜⬜⬜⬜⬜⬜⬜\n",
      "🟩⬜⬜⬜⬜⬜⬜⬜⬜⬜🟥⬜⬜⬜⬜⬜⬜⬜⬜⬜⬜\n",
      "🤖⬜⬜⬜⬜⬜⬜⬜⬜⬜🟥🟥🟥🟥🟥🟥🟥🟥🟥🟥👾\n"
     ]
    }
   ],
   "source": [
    "result_3 = run_robot_game(world, good_start,bad_start, goal, MOVES, good_strategy='minimax', bad_strategy='minimax', good_depth=2,bad_depth=8)"
   ]
  },
  {
   "cell_type": "markdown",
   "metadata": {},
   "source": [
    "## Problem #4\n",
    "\n",
    "\n",
    "Play the game again, but in this problem, '🤖' and '👾' both use a depth of 4 and utility function of '👾' = - Euclidean distance to '❤️' - Euclidean distance to '🤖' (it now knows the '❤️' means something to '🤖')."
   ]
  },
  {
   "cell_type": "code",
   "execution_count": 2155,
   "metadata": {},
   "outputs": [],
   "source": [
    "def bad_robot_evaluation(bad_pos, good_pos, goal):\n",
    "  distance_to_good = euclidean_distance(bad_pos, good_pos)\n",
    "  distance_to_goal = euclidean_distance(bad_pos, goal)\n",
    "  utility = -distance_to_good - distance_to_goal\n",
    "  return utility"
   ]
  },
  {
   "cell_type": "code",
   "execution_count": 2156,
   "metadata": {},
   "outputs": [
    {
     "name": "stdout",
     "output_type": "stream",
     "text": [
      "⬜⬜⬜⬜⬜⬜⬜⬜⬜⬜⬜⬜⬜⬜⬜⬜⬜⬜⬜⬜❤️\n",
      "🟩🟩🟩🟩🟩🟩🟩🟩🟩🟩🟩🟩🟩🟩🟩🟩🟩🟩🟩🟥🟥\n",
      "🟩⬜⬜⬜⬜⬜⬜⬜⬜⬜⬜⬜⬜⬜⬜⬜⬜⬜⬜🟥⬜\n",
      "🟩⬜⬜⬜⬜⬜⬜⬜⬜⬜⬜⬜⬜⬜⬜⬜⬜⬜⬜🟥⬜\n",
      "🟩⬜⬜⬜⬜⬜⬜⬜⬜⬜⬜⬜⬜⬜⬜⬜⬜⬜⬜🟥⬜\n",
      "🟩⬜⬜⬜⬜⬜⬜⬜⬜⬜⬜⬜⬜⬜⬜⬜⬜⬜⬜🟥⬜\n",
      "🟩⬜⬜⬜⬜⬜⬜⬜⬜⬜⬜⬜⬜⬜⬜⬜⬜⬜⬜🟥⬜\n",
      "🟩⬜⬜⬜⬜⬜⬜⬜⬜⬜⬜⬜⬜⬜⬜⬜⬜⬜⬜🟥⬜\n",
      "🟩⬜⬜⬜⬜⬜⬜⬜⬜⬜⬜⬜⬜⬜⬜⬜⬜⬜⬜🟥⬜\n",
      "🟩⬜⬜⬜⬜⬜⬜⬜⬜⬛⬛⬛⬜⬜⬜⬜⬜⬜⬜🟥⬜\n",
      "🟩⬜⬜⬜⬜⬜⬜⬜⬜⬛⬛⬛⬜⬜⬜⬜⬜⬜⬜🟥⬜\n",
      "🟩⬜⬜⬜⬜⬜⬜⬜⬜⬛⬛⬛⬜⬜⬜⬜⬜⬜⬜🟥⬜\n",
      "🟩⬜⬜⬜⬜⬜⬜⬜⬜⬜⬜⬜⬜⬜⬜⬜⬜⬜⬜🟥⬜\n",
      "🟩⬜⬜⬜⬜⬜⬜⬜⬜⬜⬜⬜⬜⬜⬜⬜⬜⬜⬜🟥⬜\n",
      "🟩⬜⬜⬜⬜⬜⬜⬜⬜⬜⬜⬜⬜⬜⬜⬜⬜⬜⬜🟥⬜\n",
      "🟩⬜⬜⬜⬜⬜⬜⬜⬜⬜⬜⬜⬜⬜⬜⬜⬜⬜⬜🟥⬜\n",
      "🟩⬜⬜⬜⬜⬜⬜⬜⬜⬜⬜⬜⬜⬜⬜⬜⬜⬜⬜🟥⬜\n",
      "🟩⬜⬜⬜⬜⬜⬜⬜⬜⬜⬜⬜⬜⬜⬜⬜⬜⬜⬜🟥⬜\n",
      "🟩⬜⬜⬜⬜⬜⬜⬜⬜⬜⬜⬜⬜⬜⬜⬜⬜⬜⬜🟥⬜\n",
      "🟩⬜⬜⬜⬜⬜⬜⬜⬜⬜⬜⬜⬜⬜⬜⬜⬜⬜⬜🟥🟥\n",
      "🤖⬜⬜⬜⬜⬜⬜⬜⬜⬜⬜⬜⬜⬜⬜⬜⬜⬜⬜⬜👾\n"
     ]
    }
   ],
   "source": [
    "# Add your arguments, but this should ONLY print out a nice view of the world\n",
    "result_4 = run_robot_game(world, good_start,bad_start, goal, MOVES, good_strategy='minimax', bad_strategy='minimax', good_depth=4,bad_depth=4)"
   ]
  },
  {
   "cell_type": "markdown",
   "metadata": {},
   "source": [
    "| Question | Comment | \n",
    "|------|------|\n",
    "|Did knowledge of '🤖' trying to get to '❤️' help '👾'? | YOUR BRIEF COMMENTS HERE |"
   ]
  },
  {
   "cell_type": "markdown",
   "metadata": {},
   "source": [
    "## Before You Submit...\n",
    "\n",
    "1. Re-read the general instructions provided above, and\n",
    "2. Hit \"Kernel\"->\"Restart & Run All\"."
   ]
  }
 ],
 "metadata": {
  "kernelspec": {
   "display_name": "base",
   "language": "python",
   "name": "python3"
  },
  "language_info": {
   "codemirror_mode": {
    "name": "ipython",
    "version": 3
   },
   "file_extension": ".py",
   "mimetype": "text/x-python",
   "name": "python",
   "nbconvert_exporter": "python",
   "pygments_lexer": "ipython3",
   "version": "3.11.5"
  },
  "toc": {
   "colors": {
    "hover_highlight": "#DAA520",
    "navigate_num": "#000000",
    "navigate_text": "#333333",
    "running_highlight": "#FF0000",
    "selected_highlight": "#FFD700",
    "sidebar_border": "#EEEEEE",
    "wrapper_background": "#FFFFFF"
   },
   "moveMenuLeft": true,
   "nav_menu": {
    "height": "192px",
    "width": "252px"
   },
   "navigate_menu": true,
   "number_sections": true,
   "sideBar": true,
   "threshold": 4,
   "toc_cell": false,
   "toc_section_display": "block",
   "toc_window_display": false,
   "widenNotebook": false
  }
 },
 "nbformat": 4,
 "nbformat_minor": 4
}
